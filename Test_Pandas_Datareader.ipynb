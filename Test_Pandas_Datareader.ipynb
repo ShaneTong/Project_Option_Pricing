{
 "cells": [
  {
   "cell_type": "code",
   "execution_count": 3,
   "metadata": {},
   "outputs": [],
   "source": [
    "import pandas_datareader as pdr"
   ]
  },
  {
   "cell_type": "code",
   "execution_count": 17,
   "metadata": {},
   "outputs": [
    {
     "name": "stdout",
     "output_type": "stream",
     "text": [
      "Help on class YahooQuotesReader in module pandas_datareader.yahoo.quotes:\n",
      "\n",
      "class YahooQuotesReader(pandas_datareader.base._BaseReader)\n",
      " |  YahooQuotesReader(symbols, start=None, end=None, retry_count=3, pause=0.1, timeout=30, session=None, freq=None)\n",
      " |  \n",
      " |  Get current yahoo quote\n",
      " |  \n",
      " |  Method resolution order:\n",
      " |      YahooQuotesReader\n",
      " |      pandas_datareader.base._BaseReader\n",
      " |      builtins.object\n",
      " |  \n",
      " |  Methods defined here:\n",
      " |  \n",
      " |  params(self, symbol)\n",
      " |      Parameters to use in API calls\n",
      " |  \n",
      " |  read(self)\n",
      " |      Read data from connector\n",
      " |  \n",
      " |  ----------------------------------------------------------------------\n",
      " |  Data descriptors defined here:\n",
      " |  \n",
      " |  url\n",
      " |      API URL\n",
      " |  \n",
      " |  ----------------------------------------------------------------------\n",
      " |  Methods inherited from pandas_datareader.base._BaseReader:\n",
      " |  \n",
      " |  __init__(self, symbols, start=None, end=None, retry_count=3, pause=0.1, timeout=30, session=None, freq=None)\n",
      " |      Initialize self.  See help(type(self)) for accurate signature.\n",
      " |  \n",
      " |  close(self)\n",
      " |      Close network session\n",
      " |  \n",
      " |  ----------------------------------------------------------------------\n",
      " |  Data descriptors inherited from pandas_datareader.base._BaseReader:\n",
      " |  \n",
      " |  __dict__\n",
      " |      dictionary for instance variables (if defined)\n",
      " |  \n",
      " |  __weakref__\n",
      " |      list of weak references to the object (if defined)\n",
      " |  \n",
      " |  default_start_date\n",
      " |      Default start date for reader. Defaults to 5 years before current date\n",
      "\n"
     ]
    }
   ],
   "source": [
    "help(pdr.data.YahooQuotesReader)"
   ]
  },
  {
   "cell_type": "code",
   "execution_count": null,
   "metadata": {},
   "outputs": [],
   "source": [
    "aapl = pdr.data.YahooOptions('aapl')\n",
    "aapl_stock = pdr.data.YahooQuotesReader('aapl')"
   ]
  },
  {
   "cell_type": "code",
   "execution_count": null,
   "metadata": {},
   "outputs": [],
   "source": [
    "aapl_stock.read().shape"
   ]
  },
  {
   "cell_type": "code",
   "execution_count": null,
   "metadata": {},
   "outputs": [],
   "source": []
  }
 ],
 "metadata": {
  "kernelspec": {
   "display_name": "Python 3",
   "language": "python",
   "name": "python3"
  },
  "language_info": {
   "codemirror_mode": {
    "name": "ipython",
    "version": 3
   },
   "file_extension": ".py",
   "mimetype": "text/x-python",
   "name": "python",
   "nbconvert_exporter": "python",
   "pygments_lexer": "ipython3",
   "version": "3.7.6"
  }
 },
 "nbformat": 4,
 "nbformat_minor": 4
}
